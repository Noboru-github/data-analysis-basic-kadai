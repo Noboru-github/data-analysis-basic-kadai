{
  "nbformat": 4,
  "nbformat_minor": 0,
  "metadata": {
    "colab": {
      "provenance": [],
      "authorship_tag": "ABX9TyM25G36Pt5bnkPdyyUIqogp"
    },
    "kernelspec": {
      "name": "python3",
      "display_name": "Python 3"
    },
    "language_info": {
      "name": "python"
    }
  },
  "cells": [
    {
      "cell_type": "code",
      "execution_count": null,
      "metadata": {
        "id": "o3YTCEXe1hiA"
      },
      "outputs": [],
      "source": [
        "import numpy as np\n",
        "\n",
        "A = np.array([[0, 1], [2, 3], [4, 5]])\n",
        "B = np.array([[0, 1, 2, 3], [4, 5, 6, 7]])\n",
        "\n",
        "np.dot(A, B)\n",
        "\n",
        "AB = np.dot(A, B)\n",
        "\n",
        "print(f\"AとBの行列の積は{AB}です。\")\n",
        "\n",
        "AB.max()"
      ]
    }
  ]
}